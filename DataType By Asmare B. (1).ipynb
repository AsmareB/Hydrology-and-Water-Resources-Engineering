{
 "cells": [
  {
   "cell_type": "markdown",
   "id": "4032df15-0af7-4941-ad43-147b8c3b4aaa",
   "metadata": {},
   "source": [
    "Asmare Belay (Engineering Hydrology)_Wollo University Kombolcha Institute of Technology (WU_KIoT) "
   ]
  },
  {
   "cell_type": "markdown",
   "id": "cfe8fc6c-0504-4501-a1d3-0f725529219e",
   "metadata": {},
   "source": [
    "Set up virtual environment for Python using Anaconda"
   ]
  },
  {
   "cell_type": "markdown",
   "id": "c141beda-212c-4d60-acbc-d060cefa4ca4",
   "metadata": {},
   "source": [
    "Anaconda is an open source software that contains Jupyter, spyder, etc that are used for large data processing, data analytics, heavy scientific computing. "
   ]
  },
  {
   "cell_type": "markdown",
   "id": "335e2c49-c103-4e72-9edc-b84d227833bd",
   "metadata": {},
   "source": [
    "Anaconda works for R and Python programming language. Package versions are managed by the package management system conda. "
   ]
  },
  {
   "cell_type": "markdown",
   "id": "9ebab094-5d9a-4680-b600-663a42d2f0f6",
   "metadata": {},
   "source": [
    "https://www.geeksforgeeks.org/how-to-install-anaconda-on-windows/"
   ]
  },
  {
   "cell_type": "markdown",
   "id": "8347d862-f81f-4ac2-920a-6b7117b717af",
   "metadata": {},
   "source": [
    "https://www.geeksforgeeks.org/how-to-install-anaconda-on-linux/"
   ]
  },
  {
   "cell_type": "markdown",
   "id": "d9db01d9-3a9f-4152-9699-015757d335b0",
   "metadata": {},
   "source": [
    "Step 1: Check if conda is installed in your path."
   ]
  },
  {
   "cell_type": "markdown",
   "id": "edb50639-628d-4361-aa98-6400c3ded863",
   "metadata": {},
   "source": [
    "Open up the anaconda command prompt.\n",
    "Type conda -V  and press enter.\n",
    "If the conda is successfully installed in your system you should see a similar output."
   ]
  },
  {
   "cell_type": "markdown",
   "id": "a9c8d13a-f03e-4fda-86e8-f35bb586d730",
   "metadata": {},
   "source": [
    "conda -V"
   ]
  },
  {
   "cell_type": "markdown",
   "id": "496c6e6b-2a09-414e-9bfd-21fde63c98fe",
   "metadata": {},
   "source": [
    "Step 2: Update the conda environment "
   ]
  },
  {
   "cell_type": "markdown",
   "id": "286cf1b9-771d-4cce-b653-a8ea2edef3c9",
   "metadata": {},
   "source": [
    "Enter the following in the anaconda prompt"
   ]
  },
  {
   "cell_type": "markdown",
   "id": "2537c831-308a-46fd-9b30-7dc49ca4a3a4",
   "metadata": {},
   "source": [
    "conda update conda"
   ]
  },
  {
   "cell_type": "markdown",
   "id": "8b7aafa2-032e-4d80-93fa-4ab812de4e6b",
   "metadata": {},
   "source": [
    "Step 3: Set up the virtual environment"
   ]
  },
  {
   "cell_type": "markdown",
   "id": "019ea5be-3288-4cf7-ae28-356949731031",
   "metadata": {},
   "source": [
    "Type conda search “^python$”  to see the list of available python versions."
   ]
  },
  {
   "cell_type": "markdown",
   "id": "5b91648f-7123-497e-b1c3-fef46ac9e1f4",
   "metadata": {},
   "source": [
    "Now replace the envname with the name you want to give to your virtual environment and replace x.x with the python version you want to use."
   ]
  },
  {
   "cell_type": "markdown",
   "id": "a6d92b25-5fc6-4cf8-8952-73186008f5fa",
   "metadata": {},
   "source": [
    "conda create -n envname python=x.x anaconda"
   ]
  },
  {
   "cell_type": "markdown",
   "id": "95bf3a6b-9b21-4c83-8e81-18704efdc02f",
   "metadata": {},
   "source": [
    "Let’s create a virtual environment name Geeks for Python3.6"
   ]
  },
  {
   "cell_type": "markdown",
   "id": "5fe5de8c-87c8-4d3a-aeb4-eacd0674b88b",
   "metadata": {},
   "source": [
    "(base) C:\\Users\\user>conda create -n datatype"
   ]
  },
  {
   "cell_type": "markdown",
   "id": "772e3107-55f8-4e7e-a742-c52f969d46cf",
   "metadata": {},
   "source": [
    "Step 4: Activating the virtual environment"
   ]
  },
  {
   "cell_type": "markdown",
   "id": "024ec3f2-4048-4cd7-a5a9-52c26afd1bf0",
   "metadata": {},
   "source": [
    "To see the list of all the available environments use command conda info -e"
   ]
  },
  {
   "cell_type": "markdown",
   "id": "7dfdf298-61d9-494e-86b6-665401d40689",
   "metadata": {},
   "source": [
    "To activate the virtual environment, enter the given command and replace your given environment name with datatype"
   ]
  },
  {
   "cell_type": "markdown",
   "id": "f0cc5e13-cebf-4b0a-a7d6-4e8756e83ce1",
   "metadata": {},
   "source": [
    "conda activate datatype"
   ]
  },
  {
   "cell_type": "markdown",
   "id": "baf462c3-097d-42f4-9f20-5d029a3797b0",
   "metadata": {},
   "source": [
    "Step 5: Installation of required packages to the virtual environment"
   ]
  },
  {
   "cell_type": "markdown",
   "id": "5bbb606a-6672-41b5-ad88-9f6ab14274df",
   "metadata": {},
   "source": [
    "Type the following command to install the additional packages to the environment and replace envname with the name of your environment."
   ]
  },
  {
   "cell_type": "markdown",
   "id": "a555bb34-7f65-4428-8c30-6180dc60f22c",
   "metadata": {},
   "source": [
    "conda install -n yourdatatype package"
   ]
  },
  {
   "cell_type": "markdown",
   "id": "2cb03c61-5a61-4ee8-879c-2e967b85c9d1",
   "metadata": {},
   "source": [
    "Step 6: Deactivating the virtual environment"
   ]
  },
  {
   "cell_type": "markdown",
   "id": "c1334d6b-aae1-4bec-a369-b469d175b6fb",
   "metadata": {},
   "source": [
    "To come out of the particular environment type the following command. The settings of the environment will remain as it is."
   ]
  },
  {
   "cell_type": "markdown",
   "id": "5e3d0232-b62f-4164-84d1-7474c9c5f44b",
   "metadata": {},
   "source": [
    "conda deactivate"
   ]
  },
  {
   "cell_type": "markdown",
   "id": "3349a5b3-a569-4209-9dd6-f17330a9d833",
   "metadata": {},
   "source": [
    "Step 7: Deletion of virtual environment"
   ]
  },
  {
   "cell_type": "markdown",
   "id": "b65c7406-fa3c-4a00-bcfe-1adfabf85aa6",
   "metadata": {},
   "source": [
    "If you no longer require a virtual environment. Delete it using the following command and replace your environment name with datatype"
   ]
  },
  {
   "cell_type": "markdown",
   "id": "fd139fde-b74e-4114-835f-800a439a297b",
   "metadata": {},
   "source": [
    "conda remove -n datatype -all"
   ]
  },
  {
   "cell_type": "markdown",
   "id": "8c837c91-7529-4ea7-a559-a52b93a1d0ea",
   "metadata": {},
   "source": [
    "https://www.geeksforgeeks.org/set-up-virtual-environment-for-python-using-anaconda/"
   ]
  },
  {
   "cell_type": "markdown",
   "id": "1e067ff6-82b1-469e-9a13-4cf51fa62d7b",
   "metadata": {},
   "source": [
    "In Python, especially when using Anaconda, you often use various packages to work with data types, data structures, and for data analysis. Here's a list of some commonly used packages in Python with Anaconda that deal with different data types:"
   ]
  },
  {
   "cell_type": "markdown",
   "id": "a2dc9faa-48f5-42b1-a7d6-2950c5a6c4c8",
   "metadata": {},
   "source": [
    "NumPy, Pandas, Matplotlib, Seaborn, SciPy, Scikit-learn, TensorFlow, PyTorch, OpenCV, Dask"
   ]
  },
  {
   "cell_type": "code",
   "execution_count": 41,
   "id": "493b426a-46d6-4ada-8da5-aa4a104b0b36",
   "metadata": {},
   "outputs": [],
   "source": [
    "import sys\n",
    "import keyword\n",
    "import operator\n",
    "from datetime import datetime\n",
    "import os"
   ]
  },
  {
   "cell_type": "markdown",
   "id": "ac5eab26-8074-4ad8-80a7-9ec820f27f95",
   "metadata": {},
   "source": [
    "Keywords"
   ]
  },
  {
   "cell_type": "markdown",
   "id": "73e608d5-8c80-4de0-9d3c-9766513a3a3a",
   "metadata": {},
   "source": [
    "Keywords are the reserved words in Python and can't be used as an identifier"
   ]
  },
  {
   "cell_type": "code",
   "execution_count": 45,
   "id": "46f7a676-d102-4e13-b227-51a6ee7f8968",
   "metadata": {},
   "outputs": [
    {
     "name": "stdout",
     "output_type": "stream",
     "text": [
      "['False', 'None', 'True', 'and', 'as', 'assert', 'async', 'await', 'break', 'class', 'continue', 'def', 'del', 'elif', 'else', 'except', 'finally', 'for', 'from', 'global', 'if', 'import', 'in', 'is', 'lambda', 'nonlocal', 'not', 'or', 'pass', 'raise', 'return', 'try', 'while', 'with', 'yield']\n"
     ]
    }
   ],
   "source": [
    "print(keyword.kwlist) # List all Python Keywords"
   ]
  },
  {
   "cell_type": "code",
   "execution_count": 47,
   "id": "9519bc30-f3c6-4f50-ad38-d8308ad3efd5",
   "metadata": {},
   "outputs": [
    {
     "data": {
      "text/plain": [
       "35"
      ]
     },
     "execution_count": 47,
     "metadata": {},
     "output_type": "execute_result"
    }
   ],
   "source": [
    "len(keyword.kwlist) # Python contains 35 keywords"
   ]
  },
  {
   "cell_type": "markdown",
   "id": "8bfe127f-8ff0-48cd-87b7-cd17b6559eab",
   "metadata": {},
   "source": [
    "Identifiers"
   ]
  },
  {
   "cell_type": "markdown",
   "id": "347ac368-e16d-4f39-ae87-69c9e37e9774",
   "metadata": {},
   "source": [
    "An identifier is a name given to entities like class, functions, variables, etc. It helps to differentiate\n",
    "one entity from another."
   ]
  },
  {
   "cell_type": "markdown",
   "id": "6c0ca837-38e1-44bb-9565-93fbfb4b54da",
   "metadata": {},
   "source": [
    "Statements"
   ]
  },
  {
   "cell_type": "markdown",
   "id": "45146e3e-c478-4830-9592-4d2bbef4ce4e",
   "metadata": {},
   "source": [
    "Instructions that a Python interpreter can execute."
   ]
  },
  {
   "cell_type": "code",
   "execution_count": 53,
   "id": "4293860a-98b6-413e-93d6-97144d03bb5d",
   "metadata": {},
   "outputs": [
    {
     "data": {
      "text/plain": [
       "30"
      ]
     },
     "execution_count": 53,
     "metadata": {},
     "output_type": "execute_result"
    }
   ],
   "source": [
    "# Single line statement\n",
    "p1 = 10 + 20\n",
    "p1"
   ]
  },
  {
   "cell_type": "code",
   "execution_count": 55,
   "id": "e7613db7-5a60-4b41-8ab0-95f2189329b3",
   "metadata": {},
   "outputs": [
    {
     "data": {
      "text/plain": [
       "['a', 'b', 'c', 'd']"
      ]
     },
     "execution_count": 55,
     "metadata": {},
     "output_type": "execute_result"
    }
   ],
   "source": [
    "# Single line statement\n",
    "p2 = ['a' , 'b' , 'c' , 'd']\n",
    "p2"
   ]
  },
  {
   "cell_type": "code",
   "execution_count": 57,
   "id": "c4e64ba7-5769-4bf8-864a-befa00b26c85",
   "metadata": {},
   "outputs": [
    {
     "data": {
      "text/plain": [
       "290"
      ]
     },
     "execution_count": 57,
     "metadata": {},
     "output_type": "execute_result"
    }
   ],
   "source": [
    "# Multiple line statement\n",
    "p1 = 20 + 30 \\\n",
    " + 40 + 50 +\\\n",
    " + 70 + 80\n",
    "p1"
   ]
  },
  {
   "cell_type": "code",
   "execution_count": 59,
   "id": "378885ab-6496-4ac2-984c-d59c5b1371bc",
   "metadata": {},
   "outputs": [
    {
     "data": {
      "text/plain": [
       "['a', 'b', 'c', 'd']"
      ]
     },
     "execution_count": 59,
     "metadata": {},
     "output_type": "execute_result"
    }
   ],
   "source": [
    "# Multiple line statement\n",
    "p2 = ['a' , \n",
    " 'b' , \n",
    " 'c' , \n",
    " 'd'\n",
    " ]\n",
    "p2"
   ]
  },
  {
   "cell_type": "markdown",
   "id": "2758fc2c-01ab-41c4-97be-e20b486f73f9",
   "metadata": {},
   "source": [
    "Indentation"
   ]
  },
  {
   "cell_type": "markdown",
   "id": "9d0cf178-f3bf-4c0d-b57e-1920ea093196",
   "metadata": {},
   "source": [
    "Indentation refers to the spaces at the beginning of a code line. It is very important as Python uses\n",
    "indentation to indicate a block of code.If the indentation is not correct we will endup with\n",
    "IndentationError error."
   ]
  },
  {
   "cell_type": "code",
   "execution_count": 65,
   "id": "ffa6a2ac-262d-4c76-96f8-44fcb0638ccd",
   "metadata": {},
   "outputs": [
    {
     "name": "stdout",
     "output_type": "stream",
     "text": [
      "P is equal to 10\n"
     ]
    }
   ],
   "source": [
    "p = 10\n",
    "if p == 10:\n",
    " print ('P is equal to 10') # correct indentation"
   ]
  },
  {
   "cell_type": "code",
   "execution_count": 67,
   "id": "6732a6c1-7de9-464a-aa6e-33b98daa7c93",
   "metadata": {},
   "outputs": [
    {
     "ename": "IndentationError",
     "evalue": "expected an indented block after 'if' statement on line 3 (3897391210.py, line 4)",
     "output_type": "error",
     "traceback": [
      "\u001b[1;36m  Cell \u001b[1;32mIn[67], line 4\u001b[1;36m\u001b[0m\n\u001b[1;33m    print ('P is equal to 10')\u001b[0m\n\u001b[1;37m    ^\u001b[0m\n\u001b[1;31mIndentationError\u001b[0m\u001b[1;31m:\u001b[0m expected an indented block after 'if' statement on line 3\n"
     ]
    }
   ],
   "source": [
    "# if indentation is skipped we will encounter \"IndentationError\"\n",
    "p = 10\n",
    "if p == 10:\n",
    "print ('P is equal to 10')"
   ]
  },
  {
   "cell_type": "code",
   "execution_count": 69,
   "id": "071c7234-b587-497e-85db-4c8c62bdee66",
   "metadata": {},
   "outputs": [
    {
     "name": "stdout",
     "output_type": "stream",
     "text": [
      "0\n",
      "1\n",
      "2\n",
      "3\n",
      "4\n"
     ]
    }
   ],
   "source": [
    "for i in range(0,5):\n",
    " print(i) # correct indentation"
   ]
  },
  {
   "cell_type": "markdown",
   "id": "4d809e8c-c896-4ca3-b47b-8793b7df7702",
   "metadata": {},
   "source": [
    "Variables"
   ]
  },
  {
   "cell_type": "markdown",
   "id": "de57f2cf-9824-426f-9658-eb5fac5b60cf",
   "metadata": {},
   "source": [
    "A Python variable is a reserved memory location to store values.A variable is created the moment\n",
    "you first assign a value to it."
   ]
  },
  {
   "cell_type": "code",
   "execution_count": 73,
   "id": "4be814e2-665d-426a-9540-0862826f3dda",
   "metadata": {},
   "outputs": [],
   "source": [
    "p = 70"
   ]
  },
  {
   "cell_type": "code",
   "execution_count": 75,
   "id": "3cbe7721-89b3-4a21-9b37-6013b42a8117",
   "metadata": {},
   "outputs": [
    {
     "data": {
      "text/plain": [
       "140716456201160"
      ]
     },
     "execution_count": 75,
     "metadata": {},
     "output_type": "execute_result"
    }
   ],
   "source": [
    "'''\n",
    "id() function returns the “identity” of the object. \n",
    "The identity of an object - Is an integer\n",
    " - Guaranteed to be unique\n",
    " - Constant for this object during its lifetime. \n",
    "'''\n",
    "id(p)"
   ]
  },
  {
   "cell_type": "code",
   "execution_count": 77,
   "id": "c1365196-043a-40f2-a4ee-3a67bc8db1a4",
   "metadata": {},
   "outputs": [
    {
     "data": {
      "text/plain": [
       "'0x7ffb1a62cbc8'"
      ]
     },
     "execution_count": 77,
     "metadata": {},
     "output_type": "execute_result"
    }
   ],
   "source": [
    "hex(id(p)) # Memory address of the variable"
   ]
  },
  {
   "cell_type": "code",
   "execution_count": 79,
   "id": "9755ca9c-fab4-4909-80c0-935585e6bf91",
   "metadata": {},
   "outputs": [
    {
     "data": {
      "text/plain": [
       "(20, int, '0x7ffb1a62c588')"
      ]
     },
     "execution_count": 79,
     "metadata": {},
     "output_type": "execute_result"
    }
   ],
   "source": [
    "p = 20 #Creates an integer object with value 20 and assigns the variable p \n",
    "q = 20 # Create new reference q which will point to value 20. \n",
    "r = q # variable r will also point to the same location where p & q are pointing\n",
    "p , type(p), hex(id(p)) # Variable P is pointing to memory location "
   ]
  },
  {
   "cell_type": "code",
   "execution_count": 81,
   "id": "df3d90c2-cb8c-4041-9e9e-cc065ecafb16",
   "metadata": {},
   "outputs": [
    {
     "data": {
      "text/plain": [
       "(20, int, '0x7ffb1a62c588')"
      ]
     },
     "execution_count": 81,
     "metadata": {},
     "output_type": "execute_result"
    }
   ],
   "source": [
    "r , type(r), hex(id(r)) "
   ]
  },
  {
   "cell_type": "code",
   "execution_count": 83,
   "id": "51560ed1-cd46-4f47-ba0c-3c81cdadbe74",
   "metadata": {},
   "outputs": [
    {
     "data": {
      "text/plain": [
       "30"
      ]
     },
     "execution_count": 83,
     "metadata": {},
     "output_type": "execute_result"
    }
   ],
   "source": [
    "p = 20\n",
    "p = p + 10 # Variable Overwriting\n",
    "p"
   ]
  },
  {
   "cell_type": "markdown",
   "id": "73815dcd-7d07-4335-b4b5-45e1f90da8aa",
   "metadata": {},
   "source": [
    "Variable Assigment"
   ]
  },
  {
   "cell_type": "code",
   "execution_count": 88,
   "id": "5ae75812-fd8e-495c-a46a-a05a733dff32",
   "metadata": {},
   "outputs": [
    {
     "name": "stdout",
     "output_type": "stream",
     "text": [
      "10\n",
      "2.57\n",
      "Python Language\n"
     ]
    }
   ],
   "source": [
    "intvar = 10 # Integer variable\n",
    "floatvar = 2.57 # Float Variable\n",
    "strvar = \"Python Language\" # String variable\n",
    "print(intvar)\n",
    "print(floatvar)\n",
    "print(strvar)\n"
   ]
  },
  {
   "cell_type": "markdown",
   "id": "cb39ef11-8775-4667-95ad-0232a019eb32",
   "metadata": {},
   "source": [
    "Multiple Assignments"
   ]
  },
  {
   "cell_type": "code",
   "execution_count": 91,
   "id": "6dd400ee-0a1e-45f8-b3ba-98fd5955f904",
   "metadata": {},
   "outputs": [
    {
     "name": "stdout",
     "output_type": "stream",
     "text": [
      "10\n",
      "2.57\n",
      "Python Language\n"
     ]
    }
   ],
   "source": [
    "intvar , floatvar , strvar = 10,2.57,\"Python Language\" # Using commas to separate\n",
    "print(intvar)\n",
    "print(floatvar)\n",
    "print(strvar)"
   ]
  },
  {
   "cell_type": "code",
   "execution_count": 93,
   "id": "64fc1394-aa3b-49f5-9177-80c09677c42a",
   "metadata": {},
   "outputs": [
    {
     "name": "stdout",
     "output_type": "stream",
     "text": [
      "44 44 44 44\n"
     ]
    }
   ],
   "source": [
    "p1 = p2 = p3 = p4 = 44 # All variables pointing to same value\n",
    "print(p1,p2,p3,p4)"
   ]
  },
  {
   "cell_type": "markdown",
   "id": "bbd0a3a5-b4ba-47f7-95f8-3d51c95166c6",
   "metadata": {},
   "source": [
    "Data Types"
   ]
  },
  {
   "cell_type": "markdown",
   "id": "07a71429-a4c6-4900-aab4-0d1bea01d806",
   "metadata": {},
   "source": [
    "1.Numeric"
   ]
  },
  {
   "cell_type": "code",
   "execution_count": 97,
   "id": "f8fc9016-dc63-4f0e-af91-07cf556e1a24",
   "metadata": {},
   "outputs": [
    {
     "name": "stdout",
     "output_type": "stream",
     "text": [
      "10\n",
      "<class 'int'>\n",
      "28\n",
      "10  is Integer? True\n"
     ]
    }
   ],
   "source": [
    "val1 = 10 # Integer data type\n",
    "print(val1)\n",
    "print(type(val1)) # type of object\n",
    "print(sys.getsizeof(val1)) # size of integer object in bytes \n",
    "print(val1, \" is Integer?\", isinstance(val1, int)) "
   ]
  },
  {
   "cell_type": "code",
   "execution_count": 99,
   "id": "c09d93dc-764c-4380-a5a1-976b152a9f26",
   "metadata": {},
   "outputs": [
    {
     "name": "stdout",
     "output_type": "stream",
     "text": [
      "92.78\n",
      "<class 'float'>\n",
      "24\n",
      "92.78  is float? True\n"
     ]
    }
   ],
   "source": [
    "val2 = 92.78 # Float data type\n",
    "print(val2)\n",
    "print(type(val2)) # type of object\n",
    "print(sys.getsizeof(val2)) # size of float object in bytes\n",
    "print(val2, \" is float?\", isinstance(val2, float)) "
   ]
  },
  {
   "cell_type": "code",
   "execution_count": 101,
   "id": "7d2c2ca0-6669-4759-a7fe-9821ef31b3ca",
   "metadata": {},
   "outputs": [
    {
     "name": "stdout",
     "output_type": "stream",
     "text": [
      "(25+10j)\n",
      "<class 'complex'>\n",
      "32\n",
      "(25+10j)  is complex? True\n"
     ]
    }
   ],
   "source": [
    "val3 = 25 + 10j # Complex data type\n",
    "print(val3)\n",
    "print(type(val3)) # type of object\n",
    "print(sys.getsizeof(val3)) # size of float object in bytes\n",
    "print(val3, \" is complex?\", isinstance(val3, complex)) "
   ]
  },
  {
   "cell_type": "code",
   "execution_count": 103,
   "id": "7baec00b-783b-4e70-9823-c97f8e6f5610",
   "metadata": {},
   "outputs": [
    {
     "data": {
      "text/plain": [
       "28"
      ]
     },
     "execution_count": 103,
     "metadata": {},
     "output_type": "execute_result"
    }
   ],
   "source": [
    "sys.getsizeof(int()) # size of integer object in bytes "
   ]
  },
  {
   "cell_type": "code",
   "execution_count": 105,
   "id": "be9f00be-f57f-4b10-8e82-5dc9642384cb",
   "metadata": {},
   "outputs": [
    {
     "data": {
      "text/plain": [
       "24"
      ]
     },
     "execution_count": 105,
     "metadata": {},
     "output_type": "execute_result"
    }
   ],
   "source": [
    "sys.getsizeof(float()) # size of float object in bytes"
   ]
  },
  {
   "cell_type": "code",
   "execution_count": 107,
   "id": "c265e127-7d3e-47c4-8c9e-3057dabcfbc5",
   "metadata": {},
   "outputs": [
    {
     "data": {
      "text/plain": [
       "32"
      ]
     },
     "execution_count": 107,
     "metadata": {},
     "output_type": "execute_result"
    }
   ],
   "source": [
    "sys.getsizeof(complex()) # size of complex object in bytes"
   ]
  },
  {
   "cell_type": "markdown",
   "id": "67061367-5f0c-40d8-9136-bf6419ad894b",
   "metadata": {},
   "source": [
    "2.Boolean"
   ]
  },
  {
   "cell_type": "markdown",
   "id": "f26a383a-12c9-41c4-96ed-11b19f1571bb",
   "metadata": {},
   "source": [
    "Boolean data type can have only two possible values true or false."
   ]
  },
  {
   "cell_type": "code",
   "execution_count": 111,
   "id": "b5da77c8-5903-441c-8fbf-2a61a296a778",
   "metadata": {},
   "outputs": [],
   "source": [
    "bool1 = True"
   ]
  },
  {
   "cell_type": "code",
   "execution_count": 113,
   "id": "8987cf4b-e4d4-4cf4-bb75-c5efdda59b47",
   "metadata": {},
   "outputs": [],
   "source": [
    "bool2 = False"
   ]
  },
  {
   "cell_type": "code",
   "execution_count": 115,
   "id": "3f63f9a2-1172-408b-9e6a-50094063dd07",
   "metadata": {},
   "outputs": [
    {
     "name": "stdout",
     "output_type": "stream",
     "text": [
      "<class 'bool'>\n"
     ]
    }
   ],
   "source": [
    "print(type(bool1))"
   ]
  },
  {
   "cell_type": "code",
   "execution_count": 117,
   "id": "7b9a7785-4455-4185-bc50-91e4909d091c",
   "metadata": {},
   "outputs": [
    {
     "name": "stdout",
     "output_type": "stream",
     "text": [
      "<class 'bool'>\n"
     ]
    }
   ],
   "source": [
    "print(type(bool2))"
   ]
  },
  {
   "cell_type": "code",
   "execution_count": 119,
   "id": "e84af8cb-f1ff-45bc-b1f2-df171cd973d6",
   "metadata": {},
   "outputs": [
    {
     "data": {
      "text/plain": [
       "True"
      ]
     },
     "execution_count": 119,
     "metadata": {},
     "output_type": "execute_result"
    }
   ],
   "source": [
    "isinstance(bool1, bool)"
   ]
  },
  {
   "cell_type": "markdown",
   "id": "269e76fc-c996-4857-8cf4-795bfb9c44d1",
   "metadata": {},
   "source": [
    "2. Strings"
   ]
  },
  {
   "cell_type": "markdown",
   "id": "1dd234ec-a89f-49d6-8008-14e560c10981",
   "metadata": {},
   "source": [
    "str (String) Data Type is used when the programmer wants the data to be represented as exact \n",
    "words that are either hard coded into the program or gained from the user. A String data type \n",
    "is always enclosed in quotation marks."
   ]
  },
  {
   "cell_type": "markdown",
   "id": "10227fd1-595b-4ed1-af3f-f9b0fbc8de56",
   "metadata": {},
   "source": [
    "String Creation"
   ]
  },
  {
   "cell_type": "code",
   "execution_count": 124,
   "id": "7530e8d5-8a72-4408-a12b-e1ae1ccac994",
   "metadata": {},
   "outputs": [
    {
     "name": "stdout",
     "output_type": "stream",
     "text": [
      "HELLO PYTHON\n"
     ]
    }
   ],
   "source": [
    "str1 = \"HELLO PYTHON\"\n",
    "print(str1)"
   ]
  },
  {
   "cell_type": "code",
   "execution_count": 126,
   "id": "4576c154-2fa3-49f5-948c-ed6abb4e5180",
   "metadata": {},
   "outputs": [
    {
     "name": "stdout",
     "output_type": "stream",
     "text": [
      "Hello World\n"
     ]
    }
   ],
   "source": [
    "mystr = 'Hello World' # Define string using single quotes\n",
    "print(mystr)"
   ]
  },
  {
   "cell_type": "code",
   "execution_count": 128,
   "id": "7c8b2519-0c03-429d-9425-ff884738c8ab",
   "metadata": {},
   "outputs": [
    {
     "name": "stdout",
     "output_type": "stream",
     "text": [
      "Hello World\n"
     ]
    }
   ],
   "source": [
    "mystr = \"Hello World\" # Define string using double quotes\n",
    "print(mystr)"
   ]
  },
  {
   "cell_type": "code",
   "execution_count": 130,
   "id": "72ea81ed-0648-4157-8cef-81b9be517aba",
   "metadata": {},
   "outputs": [
    {
     "name": "stdout",
     "output_type": "stream",
     "text": [
      "Hello \n",
      " World \n"
     ]
    }
   ],
   "source": [
    "mystr = '''Hello \n",
    " World ''' # Define string using triple quotes\n",
    "print(mystr)"
   ]
  },
  {
   "cell_type": "code",
   "execution_count": 132,
   "id": "821b6300-e26c-40c9-9e3c-313efaa10cbb",
   "metadata": {},
   "outputs": [
    {
     "name": "stdout",
     "output_type": "stream",
     "text": [
      "Hello\n",
      " World\n"
     ]
    }
   ],
   "source": [
    "mystr = \"\"\"Hello\n",
    " World\"\"\" # Define string using triple quotes\n",
    "print(mystr)"
   ]
  },
  {
   "cell_type": "code",
   "execution_count": 134,
   "id": "8765e5df-6d6e-4910-9c49-d609524a25e3",
   "metadata": {},
   "outputs": [
    {
     "name": "stdout",
     "output_type": "stream",
     "text": [
      "Happy Monday Everyone\n"
     ]
    }
   ],
   "source": [
    "mystr = ('Happy '\n",
    " 'Monday '\n",
    " 'Everyone')\n",
    "print(mystr)"
   ]
  },
  {
   "cell_type": "code",
   "execution_count": 136,
   "id": "b434fb06-943c-4c41-bda8-d79339da3197",
   "metadata": {},
   "outputs": [
    {
     "data": {
      "text/plain": [
       "'Woohoo Woohoo Woohoo Woohoo Woohoo '"
      ]
     },
     "execution_count": 136,
     "metadata": {},
     "output_type": "execute_result"
    }
   ],
   "source": [
    "mystr2 = 'Woohoo '\n",
    "mystr2 = mystr2*5\n",
    "mystr2"
   ]
  },
  {
   "cell_type": "code",
   "execution_count": 138,
   "id": "cd848df9-7bc9-4e90-8e18-8bce60176088",
   "metadata": {},
   "outputs": [
    {
     "data": {
      "text/plain": [
       "35"
      ]
     },
     "execution_count": 138,
     "metadata": {},
     "output_type": "execute_result"
    }
   ],
   "source": [
    "len(mystr2) # Length of string"
   ]
  },
  {
   "cell_type": "markdown",
   "id": "f1d26642-cba8-4003-83c6-4b3c9acb7057",
   "metadata": {},
   "source": [
    "String Indexing"
   ]
  },
  {
   "cell_type": "code",
   "execution_count": 141,
   "id": "a88f2cbb-4ceb-4b66-bc36-9255906e9ecb",
   "metadata": {},
   "outputs": [
    {
     "data": {
      "text/plain": [
       "'HELLO PYTHON'"
      ]
     },
     "execution_count": 141,
     "metadata": {},
     "output_type": "execute_result"
    }
   ],
   "source": [
    "str1"
   ]
  },
  {
   "cell_type": "code",
   "execution_count": 143,
   "id": "89630107-a9bf-4189-9481-c9ba307693e5",
   "metadata": {},
   "outputs": [
    {
     "data": {
      "text/plain": [
       "'H'"
      ]
     },
     "execution_count": 143,
     "metadata": {},
     "output_type": "execute_result"
    }
   ],
   "source": [
    "str1[0] # First character in string \"str1\""
   ]
  },
  {
   "cell_type": "code",
   "execution_count": 145,
   "id": "cbe2fdb2-72cd-4354-b43c-d6b63bfde783",
   "metadata": {},
   "outputs": [
    {
     "data": {
      "text/plain": [
       "'N'"
      ]
     },
     "execution_count": 145,
     "metadata": {},
     "output_type": "execute_result"
    }
   ],
   "source": [
    "str1[len(str1)-1] # Last character in string using len function"
   ]
  },
  {
   "cell_type": "code",
   "execution_count": 147,
   "id": "2b668cd2-ec8f-445d-8f29-a7e33e7e947a",
   "metadata": {},
   "outputs": [
    {
     "data": {
      "text/plain": [
       "'N'"
      ]
     },
     "execution_count": 147,
     "metadata": {},
     "output_type": "execute_result"
    }
   ],
   "source": [
    "str1[-1] # Last character in string"
   ]
  },
  {
   "cell_type": "code",
   "execution_count": 149,
   "id": "e211f2b4-c425-4575-96ca-fa739ea2ed6f",
   "metadata": {},
   "outputs": [
    {
     "data": {
      "text/plain": [
       "'P'"
      ]
     },
     "execution_count": 149,
     "metadata": {},
     "output_type": "execute_result"
    }
   ],
   "source": [
    "str1[6] #Fetch 7th element of the string "
   ]
  },
  {
   "cell_type": "code",
   "execution_count": 151,
   "id": "0cae40bb-ca64-4adb-b7d3-1fb91927e799",
   "metadata": {},
   "outputs": [
    {
     "data": {
      "text/plain": [
       "' '"
      ]
     },
     "execution_count": 151,
     "metadata": {},
     "output_type": "execute_result"
    }
   ],
   "source": [
    "str1[5]"
   ]
  },
  {
   "cell_type": "markdown",
   "id": "f8f10a70-e887-4953-af46-606b0da25c51",
   "metadata": {},
   "source": [
    "String Slicing"
   ]
  },
  {
   "cell_type": "code",
   "execution_count": 154,
   "id": "1b1344f7-44ef-4861-aaf3-a8ef22084034",
   "metadata": {},
   "outputs": [
    {
     "data": {
      "text/plain": [
       "'HELLO'"
      ]
     },
     "execution_count": 154,
     "metadata": {},
     "output_type": "execute_result"
    }
   ],
   "source": [
    "str1[0:5] # String slicing - Fetch all characters from 0 to 5 index location "
   ]
  },
  {
   "cell_type": "code",
   "execution_count": 156,
   "id": "fb913c40-39c9-4d86-8fb4-7a8338ca9768",
   "metadata": {},
   "outputs": [
    {
     "data": {
      "text/plain": [
       "'PYTHON'"
      ]
     },
     "execution_count": 156,
     "metadata": {},
     "output_type": "execute_result"
    }
   ],
   "source": [
    "str1[6:12] # String slicing - Retreive all characters between 6 - 12 index loc"
   ]
  },
  {
   "cell_type": "code",
   "execution_count": 158,
   "id": "f926434b-999b-45da-bd76-a845f8a4856f",
   "metadata": {},
   "outputs": [
    {
     "data": {
      "text/plain": [
       "'THON'"
      ]
     },
     "execution_count": 158,
     "metadata": {},
     "output_type": "execute_result"
    }
   ],
   "source": [
    "str1[-4:] # Retreive last four characters of the string"
   ]
  },
  {
   "cell_type": "code",
   "execution_count": 160,
   "id": "d2930c30-b269-4326-bd19-b78ee715fb7e",
   "metadata": {},
   "outputs": [
    {
     "data": {
      "text/plain": [
       "'PYTHON'"
      ]
     },
     "execution_count": 160,
     "metadata": {},
     "output_type": "execute_result"
    }
   ],
   "source": [
    "str1[-6:] # Retreive last six characters of the string"
   ]
  },
  {
   "cell_type": "code",
   "execution_count": 162,
   "id": "36a5c706-e82c-42d4-8ccf-51add0fb6c53",
   "metadata": {},
   "outputs": [
    {
     "data": {
      "text/plain": [
       "'HELL'"
      ]
     },
     "execution_count": 162,
     "metadata": {},
     "output_type": "execute_result"
    }
   ],
   "source": [
    "str1[:4] # Retreive first four characters of the string"
   ]
  },
  {
   "cell_type": "code",
   "execution_count": 164,
   "id": "a887a9a5-5854-4924-a3de-923cfee3faa5",
   "metadata": {},
   "outputs": [
    {
     "data": {
      "text/plain": [
       "'HELLO '"
      ]
     },
     "execution_count": 164,
     "metadata": {},
     "output_type": "execute_result"
    }
   ],
   "source": [
    "str1[:6] # Retreive first six characters of the string"
   ]
  },
  {
   "cell_type": "markdown",
   "id": "0521b6c0-5bd5-4ec5-90d1-98e12381339b",
   "metadata": {},
   "source": [
    "Update & Delete String"
   ]
  },
  {
   "cell_type": "code",
   "execution_count": 167,
   "id": "e634b0df-35f2-4e99-b71c-42bffd25734b",
   "metadata": {},
   "outputs": [
    {
     "data": {
      "text/plain": [
       "'HELLO PYTHON'"
      ]
     },
     "execution_count": 167,
     "metadata": {},
     "output_type": "execute_result"
    }
   ],
   "source": [
    "str1"
   ]
  },
  {
   "cell_type": "code",
   "execution_count": 169,
   "id": "f93e4ab6-b145-4721-8ab6-0aef739f4adb",
   "metadata": {},
   "outputs": [
    {
     "ename": "NameError",
     "evalue": "name 'srt1' is not defined",
     "output_type": "error",
     "traceback": [
      "\u001b[1;31m---------------------------------------------------------------------------\u001b[0m",
      "\u001b[1;31mNameError\u001b[0m                                 Traceback (most recent call last)",
      "Cell \u001b[1;32mIn[169], line 2\u001b[0m\n\u001b[0;32m      1\u001b[0m \u001b[38;5;28;01mdel\u001b[39;00m str1 \u001b[38;5;66;03m# Delete a string\u001b[39;00m\n\u001b[1;32m----> 2\u001b[0m \u001b[38;5;28mprint\u001b[39m(srt1)\n",
      "\u001b[1;31mNameError\u001b[0m: name 'srt1' is not defined"
     ]
    }
   ],
   "source": [
    "del str1 # Delete a string\n",
    "print(srt1)"
   ]
  },
  {
   "cell_type": "markdown",
   "id": "3eab1880-0ca1-4c9e-b7b6-402d89bdb6c1",
   "metadata": {},
   "source": [
    "String concatenation"
   ]
  },
  {
   "cell_type": "code",
   "execution_count": 172,
   "id": "5c95dc77-b8ad-44d2-9554-2a35b6a080e3",
   "metadata": {},
   "outputs": [
    {
     "name": "stdout",
     "output_type": "stream",
     "text": [
      "HelloAsmare B.\n"
     ]
    }
   ],
   "source": [
    "# String concatenation\n",
    "s1 = \"Hello\"\n",
    "s2 = \"Asmare B.\"\n",
    "s3 = s1 + s2\n",
    "print(s3)\n"
   ]
  },
  {
   "cell_type": "code",
   "execution_count": 174,
   "id": "539fc020-b241-46e3-b8d8-45f01e576d41",
   "metadata": {},
   "outputs": [
    {
     "name": "stdout",
     "output_type": "stream",
     "text": [
      "Hello Asmare B.\n"
     ]
    }
   ],
   "source": [
    "# String concatenation\n",
    "s1 = \"Hello\"\n",
    "s2 = \"Asmare B.\"\n",
    "s3 = s1 + \" \" + s2\n",
    "print(s3)"
   ]
  },
  {
   "cell_type": "markdown",
   "id": "68f0d9f0-6cd9-42dd-9e96-7781078b349d",
   "metadata": {},
   "source": [
    "Iterating through a String"
   ]
  },
  {
   "cell_type": "code",
   "execution_count": 177,
   "id": "4a2b4a6b-ce42-4492-bed9-e5d742615127",
   "metadata": {},
   "outputs": [],
   "source": [
    "mystr1 = \"Hello Everyone\""
   ]
  },
  {
   "cell_type": "code",
   "execution_count": 179,
   "id": "72d153e2-7e0a-4bab-923e-a969f9978b83",
   "metadata": {},
   "outputs": [
    {
     "name": "stdout",
     "output_type": "stream",
     "text": [
      "H\n",
      "e\n",
      "l\n",
      "l\n",
      "o\n",
      " \n",
      "E\n",
      "v\n",
      "e\n",
      "r\n",
      "y\n",
      "o\n",
      "n\n",
      "e\n"
     ]
    }
   ],
   "source": [
    "# Iteration \n",
    "for i in mystr1:\n",
    " print(i)"
   ]
  },
  {
   "cell_type": "code",
   "execution_count": 181,
   "id": "2dd7b3d1-967b-414b-9ec2-cf2d83e5e07a",
   "metadata": {},
   "outputs": [
    {
     "name": "stdout",
     "output_type": "stream",
     "text": [
      "(0, 'H')\n",
      "(1, 'e')\n",
      "(2, 'l')\n",
      "(3, 'l')\n",
      "(4, 'o')\n",
      "(5, ' ')\n",
      "(6, 'E')\n",
      "(7, 'v')\n",
      "(8, 'e')\n",
      "(9, 'r')\n",
      "(10, 'y')\n",
      "(11, 'o')\n",
      "(12, 'n')\n",
      "(13, 'e')\n"
     ]
    }
   ],
   "source": [
    "for i in enumerate(mystr1):\n",
    " print(i)"
   ]
  },
  {
   "cell_type": "code",
   "execution_count": 183,
   "id": "f31ae101-c1c4-4643-b562-7f7f24271892",
   "metadata": {},
   "outputs": [
    {
     "data": {
      "text/plain": [
       "[(0, 'H'),\n",
       " (1, 'e'),\n",
       " (2, 'l'),\n",
       " (3, 'l'),\n",
       " (4, 'o'),\n",
       " (5, ' '),\n",
       " (6, 'E'),\n",
       " (7, 'v'),\n",
       " (8, 'e'),\n",
       " (9, 'r'),\n",
       " (10, 'y'),\n",
       " (11, 'o'),\n",
       " (12, 'n'),\n",
       " (13, 'e')]"
      ]
     },
     "execution_count": 183,
     "metadata": {},
     "output_type": "execute_result"
    }
   ],
   "source": [
    "list(enumerate(mystr1)) # Enumerate method adds a counter to an iterable "
   ]
  },
  {
   "cell_type": "markdown",
   "id": "5d0d01f0-5707-466b-91d9-2f4c779e4535",
   "metadata": {},
   "source": [
    "String Membership"
   ]
  },
  {
   "cell_type": "code",
   "execution_count": 186,
   "id": "79afc112-1736-4607-a309-855bf9de3c54",
   "metadata": {},
   "outputs": [
    {
     "name": "stdout",
     "output_type": "stream",
     "text": [
      "True\n",
      "True\n",
      "False\n"
     ]
    }
   ],
   "source": [
    "# String membership\n",
    "mystr1 = \"Hello Everyone\"\n",
    "print ('Hello' in mystr1) # Check whether substring \"Hello\" is present in string \n",
    "print ('Everyone' in mystr1) # Check whether substring \"Everyone\" is present in string \n",
    "print ('Hi' in mystr1) # Check whether substring \"Hi\" is present in string "
   ]
  },
  {
   "cell_type": "markdown",
   "id": "7eb75a93-3804-46b2-b02d-c48c0bda4db1",
   "metadata": {},
   "source": [
    "String Functions"
   ]
  },
  {
   "cell_type": "code",
   "execution_count": 189,
   "id": "aa54ff7a-8ea7-4e3b-a77d-7bf39e0d3c9d",
   "metadata": {},
   "outputs": [
    {
     "data": {
      "text/plain": [
       "' Hello Everyone '"
      ]
     },
     "execution_count": 189,
     "metadata": {},
     "output_type": "execute_result"
    }
   ],
   "source": [
    "mystr2 = \" Hello Everyone \"\n",
    "mystr2"
   ]
  },
  {
   "cell_type": "code",
   "execution_count": 191,
   "id": "e2c0ee02-50fb-4d01-b7ea-7cc684c5ae3f",
   "metadata": {},
   "outputs": [
    {
     "data": {
      "text/plain": [
       "'Hello Everyone'"
      ]
     },
     "execution_count": 191,
     "metadata": {},
     "output_type": "execute_result"
    }
   ],
   "source": [
    "mystr2.strip() # Removes white space from begining & end"
   ]
  },
  {
   "cell_type": "code",
   "execution_count": 193,
   "id": "a96e6659-2fd9-43c6-82b8-e92056f82409",
   "metadata": {},
   "outputs": [
    {
     "data": {
      "text/plain": [
       "' Hello Everyone'"
      ]
     },
     "execution_count": 193,
     "metadata": {},
     "output_type": "execute_result"
    }
   ],
   "source": [
    "mystr2.rstrip() # Removes all whitespaces at the end of the string"
   ]
  },
  {
   "cell_type": "code",
   "execution_count": 195,
   "id": "521464e7-dfb4-40e8-89d1-7cff839a1bfd",
   "metadata": {},
   "outputs": [
    {
     "data": {
      "text/plain": [
       "'Hello Everyone '"
      ]
     },
     "execution_count": 195,
     "metadata": {},
     "output_type": "execute_result"
    }
   ],
   "source": [
    "mystr2.lstrip() # Removes all whitespaces at the begining of the string"
   ]
  },
  {
   "cell_type": "code",
   "execution_count": 197,
   "id": "b9278291-e30c-4733-b11a-42b7e2184cab",
   "metadata": {},
   "outputs": [
    {
     "data": {
      "text/plain": [
       "'*********Hello Everyone***********All the Best**********'"
      ]
     },
     "execution_count": 197,
     "metadata": {},
     "output_type": "execute_result"
    }
   ],
   "source": [
    "mystr2 = \"*********Hello Everyone***********All the Best**********\"\n",
    "mystr2"
   ]
  },
  {
   "cell_type": "code",
   "execution_count": 199,
   "id": "87f5e9d2-c6c1-498f-90f0-7d4c054e9c78",
   "metadata": {},
   "outputs": [
    {
     "data": {
      "text/plain": [
       "'Hello Everyone***********All the Best'"
      ]
     },
     "execution_count": 199,
     "metadata": {},
     "output_type": "execute_result"
    }
   ],
   "source": [
    "mystr2.strip('*') # Removes all '*' characters from begining & end of the string"
   ]
  },
  {
   "cell_type": "code",
   "execution_count": 201,
   "id": "a72d123a-4d5e-437a-a499-6a7bbbd646e7",
   "metadata": {},
   "outputs": [],
   "source": [
    "mystr2 = \" Hello Everyone \""
   ]
  },
  {
   "cell_type": "code",
   "execution_count": 203,
   "id": "e10057a5-a253-493f-98a9-3dc86ac1b4c4",
   "metadata": {},
   "outputs": [
    {
     "data": {
      "text/plain": [
       "' hello everyone '"
      ]
     },
     "execution_count": 203,
     "metadata": {},
     "output_type": "execute_result"
    }
   ],
   "source": [
    "mystr2.lower() # Return whole string in lowercase"
   ]
  },
  {
   "cell_type": "code",
   "execution_count": 205,
   "id": "d39fde14-95da-4039-9019-253a0c78da32",
   "metadata": {},
   "outputs": [
    {
     "data": {
      "text/plain": [
       "' HELLO EVERYONE '"
      ]
     },
     "execution_count": 205,
     "metadata": {},
     "output_type": "execute_result"
    }
   ],
   "source": [
    "mystr2.upper() # Return whole string in uppercase"
   ]
  },
  {
   "cell_type": "code",
   "execution_count": 207,
   "id": "c2066ef6-17ca-4e1e-b66a-132f8940506f",
   "metadata": {},
   "outputs": [
    {
     "data": {
      "text/plain": [
       "' Hollo Everyone '"
      ]
     },
     "execution_count": 207,
     "metadata": {},
     "output_type": "execute_result"
    }
   ],
   "source": [
    "mystr2.replace(\"He\" , \"Ho\") #Replace substring \"He\" with \"Ho\""
   ]
  },
  {
   "cell_type": "code",
   "execution_count": 209,
   "id": "7af57d83-8de4-4065-ba2f-4922cc28f7ac",
   "metadata": {},
   "outputs": [
    {
     "data": {
      "text/plain": [
       "'HelloEveryone'"
      ]
     },
     "execution_count": 209,
     "metadata": {},
     "output_type": "execute_result"
    }
   ],
   "source": [
    "mystr2.replace(\" \" , \"\") # Remove all whitespaces using replace function"
   ]
  },
  {
   "cell_type": "code",
   "execution_count": 211,
   "id": "72683d44-25dc-4354-bc7a-846078e498a3",
   "metadata": {},
   "outputs": [],
   "source": [
    "mystr5 = \"one two Three one two two three\""
   ]
  },
  {
   "cell_type": "code",
   "execution_count": 213,
   "id": "4a16866a-03ea-40c6-b9c0-9ae378acaf49",
   "metadata": {},
   "outputs": [
    {
     "data": {
      "text/plain": [
       "2"
      ]
     },
     "execution_count": 213,
     "metadata": {},
     "output_type": "execute_result"
    }
   ],
   "source": [
    "mystr5.count(\"one\") # Number of times substring \"one\" occurred in string."
   ]
  },
  {
   "cell_type": "code",
   "execution_count": 215,
   "id": "34f65d52-54ea-47ee-8b67-8a021c413f69",
   "metadata": {},
   "outputs": [
    {
     "data": {
      "text/plain": [
       "True"
      ]
     },
     "execution_count": 215,
     "metadata": {},
     "output_type": "execute_result"
    }
   ],
   "source": [
    "mystr5.endswith(\"three\") # Return boolean value True if string ends with \"three\""
   ]
  },
  {
   "cell_type": "code",
   "execution_count": 217,
   "id": "70162764-c081-4a48-88b7-f0d98c15b35c",
   "metadata": {},
   "outputs": [
    {
     "data": {
      "text/plain": [
       "True"
      ]
     },
     "execution_count": 217,
     "metadata": {},
     "output_type": "execute_result"
    }
   ],
   "source": [
    "mystr5.startswith(\"one\") # Return boolean value True if string starts with \"one\""
   ]
  },
  {
   "cell_type": "markdown",
   "id": "b4c1328b-48d5-4efc-8bdd-aaeb6a27ccd5",
   "metadata": {},
   "source": [
    "List"
   ]
  },
  {
   "cell_type": "markdown",
   "id": "64e93817-bdcc-483c-acb0-0350a19c7114",
   "metadata": {},
   "source": [
    "1) List is an ordered sequence of items."
   ]
  },
  {
   "cell_type": "markdown",
   "id": "bbd518d8-01f6-48a3-b2f6-c1065c921aed",
   "metadata": {},
   "source": [
    "2) We can have different data types under a list. E.g we can have integer, float and string items in\n",
    "a same list.\n"
   ]
  },
  {
   "cell_type": "markdown",
   "id": "fbd64ac5-acbd-4a79-a787-3397a18b652c",
   "metadata": {},
   "source": [
    "list Data Type is used to represent and organize a series of data, whether it be numbers, letters, \n",
    "or words, and assign them to a single variable. This series of data can be changed later, but they \n",
    "must always be enclosed in brackets [ ]."
   ]
  },
  {
   "cell_type": "code",
   "execution_count": 225,
   "id": "325b1723-b8b2-4463-aaa7-51e181877d01",
   "metadata": {},
   "outputs": [],
   "source": [
    "list1 = [] # Empty List"
   ]
  },
  {
   "cell_type": "code",
   "execution_count": 227,
   "id": "c286349c-87c0-4b83-a15a-371f864344c8",
   "metadata": {},
   "outputs": [
    {
     "name": "stdout",
     "output_type": "stream",
     "text": [
      "<class 'list'>\n"
     ]
    }
   ],
   "source": [
    "print(type(list1))"
   ]
  },
  {
   "cell_type": "code",
   "execution_count": 229,
   "id": "d7910036-fb2e-4f34-af7a-f7c455cc1e80",
   "metadata": {},
   "outputs": [],
   "source": [
    "list4 = ['one','two' , \"three\"] # List of strings"
   ]
  },
  {
   "cell_type": "code",
   "execution_count": 231,
   "id": "bdfa65c8-3464-4826-a849-89813b47d0d8",
   "metadata": {},
   "outputs": [
    {
     "data": {
      "text/plain": [
       "'one'"
      ]
     },
     "execution_count": 231,
     "metadata": {},
     "output_type": "execute_result"
    }
   ],
   "source": [
    "list4[0] # Retreive first element of the list"
   ]
  },
  {
   "cell_type": "code",
   "execution_count": 233,
   "id": "53a9ebdc-6ee9-4822-9091-cc0a400192c5",
   "metadata": {},
   "outputs": [
    {
     "data": {
      "text/plain": [
       "'o'"
      ]
     },
     "execution_count": 233,
     "metadata": {},
     "output_type": "execute_result"
    }
   ],
   "source": [
    "list4[0][0] # Nested indexing - Access the first character of the first list elem"
   ]
  },
  {
   "cell_type": "code",
   "execution_count": 235,
   "id": "85472ee8-64b3-4d58-a058-aedcb22f147b",
   "metadata": {},
   "outputs": [
    {
     "data": {
      "text/plain": [
       "'three'"
      ]
     },
     "execution_count": 235,
     "metadata": {},
     "output_type": "execute_result"
    }
   ],
   "source": [
    "list4[-1] # Last item of the list"
   ]
  },
  {
   "cell_type": "markdown",
   "id": "186ae4aa-a09b-4edf-8f28-068459524230",
   "metadata": {},
   "source": [
    "List Slicing"
   ]
  },
  {
   "cell_type": "code",
   "execution_count": 238,
   "id": "330de8b8-23a5-4fd7-bd66-e38664ee9e84",
   "metadata": {},
   "outputs": [],
   "source": [
    "mylist = ['one' , 'two' , 'three' , 'four' , 'five' , 'six' , 'seven' , 'eight']"
   ]
  },
  {
   "cell_type": "code",
   "execution_count": 240,
   "id": "7be78730-cf0a-4c75-8f41-c3880505f992",
   "metadata": {},
   "outputs": [
    {
     "data": {
      "text/plain": [
       "['one', 'two', 'three']"
      ]
     },
     "execution_count": 240,
     "metadata": {},
     "output_type": "execute_result"
    }
   ],
   "source": [
    "mylist[0:3] # Return all items from 0th to 3rd index location excluding the item"
   ]
  },
  {
   "cell_type": "code",
   "execution_count": 242,
   "id": "27ffa11b-d6c0-4cc4-a035-52e0eaf28330",
   "metadata": {},
   "outputs": [
    {
     "data": {
      "text/plain": [
       "['one', 'two', 'three']"
      ]
     },
     "execution_count": 242,
     "metadata": {},
     "output_type": "execute_result"
    }
   ],
   "source": [
    "mylist[:3] # Return first three items"
   ]
  },
  {
   "cell_type": "code",
   "execution_count": 244,
   "id": "79b31f44-1631-4ef4-958f-80e56859dd0e",
   "metadata": {},
   "outputs": [
    {
     "data": {
      "text/plain": [
       "['six', 'seven', 'eight']"
      ]
     },
     "execution_count": 244,
     "metadata": {},
     "output_type": "execute_result"
    }
   ],
   "source": [
    "mylist[-3:] # Return last three items"
   ]
  },
  {
   "cell_type": "markdown",
   "id": "00476647-89a5-4161-90be-996f3324cccb",
   "metadata": {},
   "source": [
    "Add , Remove & Change Items"
   ]
  },
  {
   "cell_type": "code",
   "execution_count": 247,
   "id": "17ff2eca-aab9-412f-b47d-4bbbb175aadf",
   "metadata": {},
   "outputs": [
    {
     "data": {
      "text/plain": [
       "['one', 'two', 'three', 'four', 'five', 'six', 'seven', 'eight']"
      ]
     },
     "execution_count": 247,
     "metadata": {},
     "output_type": "execute_result"
    }
   ],
   "source": [
    "mylist"
   ]
  },
  {
   "cell_type": "code",
   "execution_count": 249,
   "id": "4ed1d24a-b2bb-4c7b-9167-d800c0063f09",
   "metadata": {},
   "outputs": [
    {
     "data": {
      "text/plain": [
       "['one', 'two', 'three', 'four', 'five', 'six', 'seven', 'eight', 'nine']"
      ]
     },
     "execution_count": 249,
     "metadata": {},
     "output_type": "execute_result"
    }
   ],
   "source": [
    "mylist.append('nine') # Add an item to the end of the list \n",
    "mylist"
   ]
  },
  {
   "cell_type": "code",
   "execution_count": 251,
   "id": "ea74701d-cb22-4c0b-82b4-9c609121183e",
   "metadata": {},
   "outputs": [
    {
     "data": {
      "text/plain": [
       "['one', 'two', 'three', 'four', 'five', 'six', 'seven', 'eight', 'nine', 'ten']"
      ]
     },
     "execution_count": 251,
     "metadata": {},
     "output_type": "execute_result"
    }
   ],
   "source": [
    "mylist.insert(9,'ten') # Add item at index location 9\n",
    "mylist"
   ]
  },
  {
   "cell_type": "code",
   "execution_count": 253,
   "id": "57da55df-834e-4fac-a746-cbfeaedcfcdf",
   "metadata": {},
   "outputs": [
    {
     "data": {
      "text/plain": [
       "['one',\n",
       " 'ONE',\n",
       " 'two',\n",
       " 'three',\n",
       " 'four',\n",
       " 'five',\n",
       " 'six',\n",
       " 'seven',\n",
       " 'eight',\n",
       " 'nine',\n",
       " 'ten']"
      ]
     },
     "execution_count": 253,
     "metadata": {},
     "output_type": "execute_result"
    }
   ],
   "source": [
    "mylist.insert(1,'ONE') # Add item at index location 1\n",
    "mylist"
   ]
  },
  {
   "cell_type": "code",
   "execution_count": 255,
   "id": "9cef1f5d-3760-4bb1-a32e-3fb8544e8dcf",
   "metadata": {},
   "outputs": [
    {
     "data": {
      "text/plain": [
       "['one', 'two', 'three', 'four', 'five', 'six', 'seven', 'eight', 'nine', 'ten']"
      ]
     },
     "execution_count": 255,
     "metadata": {},
     "output_type": "execute_result"
    }
   ],
   "source": [
    "mylist.remove('ONE') # Remove item \"ONE\"\n",
    "mylist"
   ]
  },
  {
   "cell_type": "code",
   "execution_count": 257,
   "id": "5a04cec3-7d5d-4d32-ae2d-35085bac09fe",
   "metadata": {},
   "outputs": [
    {
     "data": {
      "text/plain": [
       "['one', 'two', 'three', 'four', 'five', 'six', 'seven', 'eight', 'nine']"
      ]
     },
     "execution_count": 257,
     "metadata": {},
     "output_type": "execute_result"
    }
   ],
   "source": [
    "mylist.pop() # Remove last item of the list\n",
    "mylist"
   ]
  },
  {
   "cell_type": "code",
   "execution_count": 259,
   "id": "f60d4673-6105-4169-aa99-cbba63443337",
   "metadata": {},
   "outputs": [
    {
     "data": {
      "text/plain": [
       "['one', 'two', 'three', 'four', 'five', 'six', 'seven', 'eight']"
      ]
     },
     "execution_count": 259,
     "metadata": {},
     "output_type": "execute_result"
    }
   ],
   "source": [
    "mylist.pop(8) # Remove item at index location 8\n",
    "mylist"
   ]
  },
  {
   "cell_type": "code",
   "execution_count": 261,
   "id": "89cb2418-d6cb-45c2-ba98-b3c7d0a5c245",
   "metadata": {},
   "outputs": [
    {
     "data": {
      "text/plain": [
       "['one', 'two', 'three', 'four', 'five', 'six', 'seven']"
      ]
     },
     "execution_count": 261,
     "metadata": {},
     "output_type": "execute_result"
    }
   ],
   "source": [
    "del mylist[7] # Remove item at index location 7\n",
    "mylist"
   ]
  },
  {
   "cell_type": "code",
   "execution_count": 263,
   "id": "8f91408d-a8cc-462b-8f1f-82f9260bc1ca",
   "metadata": {},
   "outputs": [
    {
     "data": {
      "text/plain": [
       "[1, 2, 3, 'four', 'five', 'six', 'seven']"
      ]
     },
     "execution_count": 263,
     "metadata": {},
     "output_type": "execute_result"
    }
   ],
   "source": [
    "# Change value of the string\n",
    "mylist[0] = 1\n",
    "mylist[1] = 2\n",
    "mylist[2] = 3\n",
    "mylist"
   ]
  },
  {
   "cell_type": "code",
   "execution_count": 265,
   "id": "bdc9f96b-d1f9-4b72-8e81-96c79fbee8d4",
   "metadata": {},
   "outputs": [
    {
     "data": {
      "text/plain": [
       "[]"
      ]
     },
     "execution_count": 265,
     "metadata": {},
     "output_type": "execute_result"
    }
   ],
   "source": [
    "mylist.clear() # Empty List / Delete all items in the list\n",
    "mylist"
   ]
  },
  {
   "cell_type": "markdown",
   "id": "e4cadf07-9264-4708-8556-eaf7c3e6d1ed",
   "metadata": {},
   "source": [
    "Join Lists"
   ]
  },
  {
   "cell_type": "code",
   "execution_count": 268,
   "id": "0148bd80-0475-4648-93ec-df00f784814a",
   "metadata": {},
   "outputs": [],
   "source": [
    "list1 = ['one', 'two', 'three', 'four']\n",
    "list2 = ['five', 'six', 'seven', 'eight']"
   ]
  },
  {
   "cell_type": "code",
   "execution_count": 270,
   "id": "ea9cb5dc-b83d-4630-9b40-634d1dad40de",
   "metadata": {},
   "outputs": [
    {
     "data": {
      "text/plain": [
       "['one', 'two', 'three', 'four', 'five', 'six', 'seven', 'eight']"
      ]
     },
     "execution_count": 270,
     "metadata": {},
     "output_type": "execute_result"
    }
   ],
   "source": [
    "list3 = list1 + list2 # Join two lists by '+' operator\n",
    "list3"
   ]
  },
  {
   "cell_type": "code",
   "execution_count": 272,
   "id": "7b93074f-1c17-4068-9e66-6da56565bcea",
   "metadata": {},
   "outputs": [
    {
     "data": {
      "text/plain": [
       "['one', 'two', 'three', 'four', 'five', 'six', 'seven', 'eight']"
      ]
     },
     "execution_count": 272,
     "metadata": {},
     "output_type": "execute_result"
    }
   ],
   "source": [
    "list1.extend(list2) #Append list2 with list1\n",
    "list1"
   ]
  },
  {
   "cell_type": "markdown",
   "id": "b7eb780a-4d7d-4135-86a4-73e61abcf8f5",
   "metadata": {},
   "source": [
    "Reverse & Sort List"
   ]
  },
  {
   "cell_type": "code",
   "execution_count": 275,
   "id": "da29a502-1eee-4125-9740-ded0cdd32c47",
   "metadata": {},
   "outputs": [
    {
     "data": {
      "text/plain": [
       "['one', 'two', 'three', 'four', 'five', 'six', 'seven', 'eight']"
      ]
     },
     "execution_count": 275,
     "metadata": {},
     "output_type": "execute_result"
    }
   ],
   "source": [
    "list1"
   ]
  },
  {
   "cell_type": "code",
   "execution_count": 277,
   "id": "0d9845a3-bdf7-4631-abf2-7bbcec02e9d9",
   "metadata": {},
   "outputs": [
    {
     "data": {
      "text/plain": [
       "['eight', 'seven', 'six', 'five', 'four', 'three', 'two', 'one']"
      ]
     },
     "execution_count": 277,
     "metadata": {},
     "output_type": "execute_result"
    }
   ],
   "source": [
    "list1.reverse() # Reverse the list\n",
    "list1"
   ]
  },
  {
   "cell_type": "code",
   "execution_count": 279,
   "id": "44b90ac6-6d7a-4188-bac0-9eed3ed87537",
   "metadata": {},
   "outputs": [
    {
     "data": {
      "text/plain": [
       "['one', 'two', 'three', 'four', 'five', 'six', 'seven', 'eight']"
      ]
     },
     "execution_count": 279,
     "metadata": {},
     "output_type": "execute_result"
    }
   ],
   "source": [
    "list1 = list1[::-1] # Reverse the list\n",
    "list1"
   ]
  },
  {
   "cell_type": "code",
   "execution_count": 281,
   "id": "560acfe5-17cb-482d-a6c6-0676f2e246f0",
   "metadata": {},
   "outputs": [
    {
     "data": {
      "text/plain": [
       "[2, 5, 9, 12, 34, 88, 99]"
      ]
     },
     "execution_count": 281,
     "metadata": {},
     "output_type": "execute_result"
    }
   ],
   "source": [
    "mylist3 = [9,5,2,99,12,88,34]\n",
    "mylist3.sort() # Sort list in ascending order\n",
    "mylist3"
   ]
  },
  {
   "cell_type": "code",
   "execution_count": 283,
   "id": "410468d1-ea20-4399-b4e6-7357afaa640e",
   "metadata": {},
   "outputs": [
    {
     "data": {
      "text/plain": [
       "[99, 88, 34, 12, 9, 5, 2]"
      ]
     },
     "execution_count": 283,
     "metadata": {},
     "output_type": "execute_result"
    }
   ],
   "source": [
    "mylist3 = [9,5,2,99,12,88,34]\n",
    "mylist3.sort(reverse=True) # Sort list in descending order\n",
    "mylist3"
   ]
  },
  {
   "cell_type": "code",
   "execution_count": 285,
   "id": "bc338475-e91e-419c-b994-67efc9730959",
   "metadata": {},
   "outputs": [
    {
     "data": {
      "text/plain": [
       "[99, 88, 34, 12, 9, 5, 2]"
      ]
     },
     "execution_count": 285,
     "metadata": {},
     "output_type": "execute_result"
    }
   ],
   "source": [
    "mylist3 = [9,5,2,99,12,88,34]\n",
    "mylist3.sort(reverse=True) # Sort list in descending order\n",
    "mylist3"
   ]
  },
  {
   "cell_type": "markdown",
   "id": "7478229c-43d0-4246-9e8c-09f03c1abb0b",
   "metadata": {},
   "source": [
    "Tuples"
   ]
  },
  {
   "cell_type": "markdown",
   "id": "127c019e-0954-4bee-8c56-90d349d96003",
   "metadata": {},
   "source": [
    "1. Tuple is similar to List except that the objects in tuple are immutable which means we cannot\n",
    "change the elements of a tuple once assigned.\n",
    "2. When we do not want to change the data over time, tuple is a preferred data type.\n",
    "3. Iterating over the elements of a tuple is faster compared to iterating over a list.\n"
   ]
  },
  {
   "cell_type": "markdown",
   "id": "4a0e0245-c830-4723-81c4-e0ba05442738",
   "metadata": {},
   "source": [
    "tuple Data Type is like the list data type in the sense that it stores multiple values in a single \n",
    "variable. Unlike a list, however, once tuples are created, neither the order nor the contents of it \n",
    "can be changed. It is also enclosed in parentheses rather than brackets."
   ]
  },
  {
   "cell_type": "markdown",
   "id": "7acb0c8d-e177-482f-9c53-f99aa26160bd",
   "metadata": {},
   "source": [
    "Tuple Creation"
   ]
  },
  {
   "cell_type": "code",
   "execution_count": 293,
   "id": "aa0d4dd1-23ad-4306-a0df-0907e0754057",
   "metadata": {},
   "outputs": [],
   "source": [
    "tup1 = () # Empty tuple"
   ]
  },
  {
   "cell_type": "code",
   "execution_count": 295,
   "id": "31dd3966-4265-49bf-9cbf-8ab625a79103",
   "metadata": {},
   "outputs": [],
   "source": [
    "tup2 = (10,30,60) # tuple of integers numbers"
   ]
  },
  {
   "cell_type": "code",
   "execution_count": 297,
   "id": "282ecd3f-fa4f-44ac-9322-d687ce8f0a5b",
   "metadata": {},
   "outputs": [],
   "source": [
    "tup3 = (10.77,30.66,60.89) # tuple of float numbers"
   ]
  },
  {
   "cell_type": "code",
   "execution_count": 299,
   "id": "6a8cecd0-9ca0-4595-af58-cf8498596a38",
   "metadata": {},
   "outputs": [],
   "source": [
    "tup4 = ('one','two' , \"three\") # tuple of strings"
   ]
  },
  {
   "cell_type": "code",
   "execution_count": 301,
   "id": "ba38e7cd-5202-4f34-ae66-b1a4527f8e74",
   "metadata": {},
   "outputs": [],
   "source": [
    "tup6 = (100, 'Asif', 17.765) # Tuple of mixed data types"
   ]
  },
  {
   "cell_type": "code",
   "execution_count": 303,
   "id": "10e702cb-66ab-4a63-bd0e-954fb3dfc42a",
   "metadata": {},
   "outputs": [
    {
     "data": {
      "text/plain": [
       "3"
      ]
     },
     "execution_count": 303,
     "metadata": {},
     "output_type": "execute_result"
    }
   ],
   "source": [
    "len(tup6) #Length of list"
   ]
  },
  {
   "cell_type": "markdown",
   "id": "2b021a45-cccf-4f84-9902-bd0f00a442f2",
   "metadata": {},
   "source": [
    "Sets"
   ]
  },
  {
   "cell_type": "markdown",
   "id": "35415157-b60e-4b14-b5a6-b0ac99f67643",
   "metadata": {},
   "source": [
    "1) Unordered & Unindexed collection of items.\n",
    "2) Set elements are unique. Duplicate elements are not allowed.\n",
    "3) Set elements are immutable (cannot be changed).\n",
    "4) Set itself is mutable. We can add or remove items from it."
   ]
  },
  {
   "cell_type": "code",
   "execution_count": 309,
   "id": "f6f4af07-3d46-4bdb-a93f-dd5b86f7c62f",
   "metadata": {},
   "outputs": [
    {
     "data": {
      "text/plain": [
       "{1, 2, 3, 4, 5}"
      ]
     },
     "execution_count": 309,
     "metadata": {},
     "output_type": "execute_result"
    }
   ],
   "source": [
    "myset = {1,2,3,4,5} # Set of numbers\n",
    "myset"
   ]
  },
  {
   "cell_type": "code",
   "execution_count": 311,
   "id": "2233c2f0-a8f0-4246-a3f8-ef89769c9c63",
   "metadata": {},
   "outputs": [
    {
     "data": {
      "text/plain": [
       "5"
      ]
     },
     "execution_count": 311,
     "metadata": {},
     "output_type": "execute_result"
    }
   ],
   "source": [
    "len(myset) #Length of the set"
   ]
  },
  {
   "cell_type": "code",
   "execution_count": 313,
   "id": "09970119-0a78-478f-809b-0d02f510db62",
   "metadata": {},
   "outputs": [
    {
     "data": {
      "text/plain": [
       "{1, 2, 3, 4, 5}"
      ]
     },
     "execution_count": 313,
     "metadata": {},
     "output_type": "execute_result"
    }
   ],
   "source": [
    "my_set = {1,1,2,2,3,4,5,5}\n",
    "my_set # Duplicate elements are not allowed."
   ]
  },
  {
   "cell_type": "code",
   "execution_count": 315,
   "id": "54bf0bfc-ed26-4c90-960e-13b95a195d92",
   "metadata": {},
   "outputs": [
    {
     "data": {
      "text/plain": [
       "{'Alemayew', 'Samule', 'Tewodros'}"
      ]
     },
     "execution_count": 315,
     "metadata": {},
     "output_type": "execute_result"
    }
   ],
   "source": [
    "myset2 = {'Samule' , 'Tewodros' , 'Alemayew'} # Set of Strings\n",
    "myset2"
   ]
  },
  {
   "cell_type": "code",
   "execution_count": 317,
   "id": "27ff0eae-6249-4e51-b474-4f09587828f7",
   "metadata": {},
   "outputs": [
    {
     "data": {
      "text/plain": [
       "{(11, 22, 32), 10, 20, 'Hola'}"
      ]
     },
     "execution_count": 317,
     "metadata": {},
     "output_type": "execute_result"
    }
   ],
   "source": [
    "myset3 = {10,20, \"Hola\", (11, 22, 32)} # Mixed datatypes\n",
    "myset3"
   ]
  },
  {
   "cell_type": "code",
   "execution_count": 319,
   "id": "0112da30-2795-4309-890c-686b62326909",
   "metadata": {},
   "outputs": [
    {
     "name": "stdout",
     "output_type": "stream",
     "text": [
      "<class 'set'>\n"
     ]
    }
   ],
   "source": [
    "myset4 = set() # Create an empty set\n",
    "print(type(myset4))"
   ]
  },
  {
   "cell_type": "code",
   "execution_count": 321,
   "id": "6037de7d-ea4e-4cb7-a234-72750cc68212",
   "metadata": {},
   "outputs": [
    {
     "data": {
      "text/plain": [
       "{'four', 'one', 'three', 'two'}"
      ]
     },
     "execution_count": 321,
     "metadata": {},
     "output_type": "execute_result"
    }
   ],
   "source": [
    "my_set1 = set(('one' , 'two' , 'three' , 'four'))\n",
    "my_set1"
   ]
  },
  {
   "cell_type": "markdown",
   "id": "b19beff3-c5a8-41bf-b54d-d09f78815d4a",
   "metadata": {},
   "source": [
    "Set Operation"
   ]
  },
  {
   "cell_type": "markdown",
   "id": "184c147b-b425-4218-adc3-d27bfdba53f3",
   "metadata": {},
   "source": [
    "Union"
   ]
  },
  {
   "cell_type": "code",
   "execution_count": 325,
   "id": "872714e8-e7ee-4da7-9276-4dbb23d2598b",
   "metadata": {},
   "outputs": [],
   "source": [
    "A = {1,2,3,4,5}\n",
    "B = {4,5,6,7,8}\n",
    "C = {8,9,10}"
   ]
  },
  {
   "cell_type": "code",
   "execution_count": 327,
   "id": "e1006a6c-e248-41c6-b747-051b1d8c054e",
   "metadata": {},
   "outputs": [
    {
     "data": {
      "text/plain": [
       "{1, 2, 3, 4, 5, 6, 7, 8}"
      ]
     },
     "execution_count": 327,
     "metadata": {},
     "output_type": "execute_result"
    }
   ],
   "source": [
    "A | B # Union of A and B (All elements from both sets. NO DUPLICATES)"
   ]
  },
  {
   "cell_type": "code",
   "execution_count": 329,
   "id": "f98a5ad3-85f7-4b6c-924a-16c7e44b657e",
   "metadata": {},
   "outputs": [
    {
     "data": {
      "text/plain": [
       "{1, 2, 3, 4, 5, 6, 7, 8}"
      ]
     },
     "execution_count": 329,
     "metadata": {},
     "output_type": "execute_result"
    }
   ],
   "source": [
    "A.union(B) # Union of A and B"
   ]
  },
  {
   "cell_type": "code",
   "execution_count": 331,
   "id": "c3dc3760-fb8a-4790-8877-8f635abaf696",
   "metadata": {},
   "outputs": [
    {
     "data": {
      "text/plain": [
       "{1, 2, 3, 4, 5, 6, 7, 8, 9, 10}"
      ]
     },
     "execution_count": 331,
     "metadata": {},
     "output_type": "execute_result"
    }
   ],
   "source": [
    "A.union(B, C) # Union of A, B and C."
   ]
  },
  {
   "cell_type": "code",
   "execution_count": 333,
   "id": "577a7dc6-4d48-4494-96c8-8e3857cb6bf2",
   "metadata": {},
   "outputs": [
    {
     "data": {
      "text/plain": [
       "{1, 2, 3, 4, 5, 6, 7, 8, 9, 10}"
      ]
     },
     "execution_count": 333,
     "metadata": {},
     "output_type": "execute_result"
    }
   ],
   "source": [
    "\"\"\"\n",
    "Updates the set calling the update() method with union of A , B & C. \n",
    "For below example Set A will be updated with union of A,B & C.\n",
    "\"\"\"\n",
    "A.update(B,C)\n",
    "A"
   ]
  },
  {
   "cell_type": "markdown",
   "id": "f74feec7-2193-4057-bdc1-b4876bd47c83",
   "metadata": {},
   "source": [
    "Intersection"
   ]
  },
  {
   "cell_type": "code",
   "execution_count": 340,
   "id": "0d78ed78-8e10-4bb3-90bb-3dfe08428b3e",
   "metadata": {},
   "outputs": [],
   "source": [
    "A = {1,2,3,4,5}\n",
    "B = {4,5,6,7,8}"
   ]
  },
  {
   "cell_type": "code",
   "execution_count": 342,
   "id": "6430c3e4-b2b0-4c25-b700-aafa1dfd1ed3",
   "metadata": {},
   "outputs": [
    {
     "data": {
      "text/plain": [
       "{4, 5}"
      ]
     },
     "execution_count": 342,
     "metadata": {},
     "output_type": "execute_result"
    }
   ],
   "source": [
    "A & B # Intersection of A and B (Common items in both sets)"
   ]
  },
  {
   "cell_type": "markdown",
   "id": "48a0dd6d-3bbe-46de-a1b6-55fede8a7261",
   "metadata": {},
   "source": [
    "Difference"
   ]
  },
  {
   "cell_type": "code",
   "execution_count": 346,
   "id": "14697552-62ac-4523-b838-316f1bde185c",
   "metadata": {},
   "outputs": [],
   "source": [
    "A = {1,2,3,4,5}\n",
    "B = {4,5,6,7,8}"
   ]
  },
  {
   "cell_type": "code",
   "execution_count": 348,
   "id": "880a9272-fdff-44b2-b0cd-0f0dc7bbb43e",
   "metadata": {},
   "outputs": [
    {
     "data": {
      "text/plain": [
       "{1, 2, 3}"
      ]
     },
     "execution_count": 348,
     "metadata": {},
     "output_type": "execute_result"
    }
   ],
   "source": [
    "A - B # set of elements that are only in A but not in B"
   ]
  },
  {
   "cell_type": "code",
   "execution_count": 350,
   "id": "ed6f2a47-82d0-4fc1-abb7-47a947f48ad4",
   "metadata": {},
   "outputs": [
    {
     "data": {
      "text/plain": [
       "{6, 7, 8}"
      ]
     },
     "execution_count": 350,
     "metadata": {},
     "output_type": "execute_result"
    }
   ],
   "source": [
    "B- A # set of elements that are only in B but not in A"
   ]
  },
  {
   "cell_type": "markdown",
   "id": "7c7a80b4-f4ed-418e-ae1c-6b87630642b2",
   "metadata": {},
   "source": [
    "Dictionary"
   ]
  },
  {
   "cell_type": "markdown",
   "id": "c85b9fe0-6903-4983-8b51-82bfef769d84",
   "metadata": {},
   "source": [
    "Dictionary is a mutable data type in Python.\n",
    "A python dictionary is a collection of key and value pairs separated by a colon (:) & enclosed\n",
    "in curly braces {}.\n",
    "Keys must be unique in a dictionary, duplicate values are allowed."
   ]
  },
  {
   "cell_type": "markdown",
   "id": "4683f77e-a8d9-4d3c-b8f1-fd727022cadf",
   "metadata": {},
   "source": [
    "dict (Dictionary) Data Type is similar to both the tuple and list data types, except rather than \n",
    "holding one value in each part of it (like 1, 2, 3, 4, 5), dictionaries hold a value pair, one acts as a \n",
    "key, and the other the value associated with it (like animal: cat, name: fluffy). These value pairs \n",
    "are changeable, so the dict data type acts like an actual dictionary, except instead of pages, it is \n",
    "enclosed in curly brackets { }."
   ]
  },
  {
   "cell_type": "markdown",
   "id": "0f7d3c01-3726-41ff-8016-d652a7b7b20e",
   "metadata": {},
   "source": [
    "Create Dictionary"
   ]
  },
  {
   "cell_type": "code",
   "execution_count": 358,
   "id": "8c278bea-10ce-410d-84b3-59c63ce5fbd9",
   "metadata": {},
   "outputs": [
    {
     "data": {
      "text/plain": [
       "{}"
      ]
     },
     "execution_count": 358,
     "metadata": {},
     "output_type": "execute_result"
    }
   ],
   "source": [
    "mydict = dict() # empty dictionary\n",
    "mydict"
   ]
  },
  {
   "cell_type": "code",
   "execution_count": 360,
   "id": "67748885-4ee2-4341-98f7-28e7d65036d1",
   "metadata": {},
   "outputs": [
    {
     "data": {
      "text/plain": [
       "{}"
      ]
     },
     "execution_count": 360,
     "metadata": {},
     "output_type": "execute_result"
    }
   ],
   "source": [
    "mydict = {} # empty dictionary\n",
    "mydict"
   ]
  },
  {
   "cell_type": "code",
   "execution_count": 362,
   "id": "b11c73c0-d4dc-4057-b475-bdcf281678a6",
   "metadata": {},
   "outputs": [
    {
     "data": {
      "text/plain": [
       "{1: 'one', 2: 'two', 3: 'three'}"
      ]
     },
     "execution_count": 362,
     "metadata": {},
     "output_type": "execute_result"
    }
   ],
   "source": [
    "mydict = {1:'one' , 2:'two' , 3:'three'} # dictionary with integer keys\n",
    "mydict"
   ]
  },
  {
   "cell_type": "code",
   "execution_count": 364,
   "id": "ae134092-402d-4ae8-9767-e723a2c4467d",
   "metadata": {},
   "outputs": [
    {
     "data": {
      "text/plain": [
       "{'A': 'one', 'B': 'two', 'C': 'three'}"
      ]
     },
     "execution_count": 364,
     "metadata": {},
     "output_type": "execute_result"
    }
   ],
   "source": [
    "mydict = {'A':'one' , 'B':'two' , 'C':'three'} # dictionary with character keys\n",
    "mydict"
   ]
  },
  {
   "cell_type": "markdown",
   "id": "d856222c-6c3e-4f75-8864-2cfc8e7c82d5",
   "metadata": {},
   "source": [
    "Operators\n",
    "Operators are special symbols in Python which are used to perform operations on\n",
    "variables/values."
   ]
  },
  {
   "cell_type": "markdown",
   "id": "8fbb05d6-47ef-4713-8ae1-88b9c8cb50c8",
   "metadata": {},
   "source": [
    "Arithmetic Operators"
   ]
  },
  {
   "cell_type": "code",
   "execution_count": 372,
   "id": "e9664eb4-5fdc-48f7-947b-f490dc3d6c0c",
   "metadata": {},
   "outputs": [
    {
     "name": "stdout",
     "output_type": "stream",
     "text": [
      "Addition of 5 and 2 will give :- 7\n",
      "\n",
      "Concatenate string 'x' and 'y' using '+' operaotr :- AsmareZemenu\n",
      "\n",
      "Subtracting 2 from 5 will give :- 3\n",
      "\n",
      "Multiplying 5 and 2 will give :- 10\n",
      "\n",
      "Dividing 5 by 2 will give :- 2.5\n",
      "\n",
      "Modulo of 5 , 2 will give :- 1\n",
      "\n",
      "5 raised to the power 2 will give :- 25\n",
      "\n",
      "Floor division of 5 by 2 will give :- 2\n",
      "\n"
     ]
    }
   ],
   "source": [
    "a = 5\n",
    "b = 2\n",
    "x = 'Asmare'\n",
    "y = 'Zemenu'\n",
    "# Addition\n",
    "c = a + b\n",
    "print('Addition of {} and {} will give :- {}\\n'.format(a,b,c))\n",
    "#Concatenate string using plus operator\n",
    "z = x+y\n",
    "print ('Concatenate string \\'x\\' and \\'y\\' using \\'+\\' operaotr :- {}\\n'.format(z,x,y))\n",
    " \n",
    "# Subtraction\n",
    "c = a - b\n",
    "print('Subtracting {} from {} will give :- {}\\n'.format(b,a,c))\n",
    " \n",
    "# Multiplication\n",
    "c = a * b \n",
    "print('Multiplying {} and {} will give :- {}\\n'.format(a,b,c))\n",
    " \n",
    "# Division\n",
    "c = a / b\n",
    "print('Dividing {} by {} will give :- {}\\n'.format(a,b,c))\n",
    " \n",
    "# Modulo of both number \n",
    "c = a % b\n",
    "print('Modulo of {} , {} will give :- {}\\n'.format(a,b,c))\n",
    " \n",
    "# Power \n",
    "c = a ** b\n",
    "print('{} raised to the power {} will give :- {}\\n'.format(a,b,c))\n",
    "# Division(floor)\n",
    "c = a // b\n",
    "print('Floor division of {} by {} will give :- {}\\n'.format(a,b,c))"
   ]
  },
  {
   "cell_type": "markdown",
   "id": "41862958-1c81-4882-ad42-aa78ce48562b",
   "metadata": {},
   "source": [
    "Comparison Operators"
   ]
  },
  {
   "cell_type": "markdown",
   "id": "94892006-e31a-406f-98cd-345dd6527521",
   "metadata": {},
   "source": [
    "Comparison operators are used to compare values."
   ]
  },
  {
   "cell_type": "code",
   "execution_count": 376,
   "id": "d77f81d0-611b-4dd3-a460-8f639ea402c0",
   "metadata": {},
   "outputs": [
    {
     "name": "stdout",
     "output_type": "stream",
     "text": [
      "Is x greater than y :-  False\n",
      "\n",
      "Is x less than y :-  True\n",
      "\n",
      "Is x equal to y :-  False\n",
      "\n",
      "Is x not equal to y :-  True\n",
      "\n",
      "Is x greater than or equal to y :-  False\n",
      "\n",
      "Is x less than or equal to y :-  True\n"
     ]
    }
   ],
   "source": [
    "x = 20\n",
    "y = 30\n",
    "print('Is x greater than y :- ',x>y)\n",
    "print('\\nIs x less than y :- ',x<y)\n",
    "print('\\nIs x equal to y :- ',x==y)\n",
    "print('\\nIs x not equal to y :- ',x!=y)\n",
    "print('\\nIs x greater than or equal to y :- ',x>=y)\n",
    "print('\\nIs x less than or equal to y :- ',x<=y)"
   ]
  },
  {
   "cell_type": "code",
   "execution_count": 378,
   "id": "4f85c2e1-9b63-4c48-8262-e91785d8d27d",
   "metadata": {},
   "outputs": [
    {
     "data": {
      "text/plain": [
       "(False, True, True)"
      ]
     },
     "execution_count": 378,
     "metadata": {},
     "output_type": "execute_result"
    }
   ],
   "source": [
    "a = 'Asif'\n",
    "b = 'Bhat'\n",
    "c = 'Asif'\n",
    "a == b , a ==c , a != b # Comparison operators on string"
   ]
  },
  {
   "cell_type": "markdown",
   "id": "7046b78c-ffaf-4a97-8540-873f64185a4b",
   "metadata": {},
   "source": [
    "Logical Operators"
   ]
  },
  {
   "cell_type": "code",
   "execution_count": 381,
   "id": "13c47cf2-ef64-4cad-976e-f0fc5eb2f9f7",
   "metadata": {},
   "outputs": [
    {
     "name": "stdout",
     "output_type": "stream",
     "text": [
      "Logical AND operation :-  False\n",
      "Logical OR operation :-  True\n",
      "NOT operation :-  False\n"
     ]
    }
   ],
   "source": [
    "x = True\n",
    "y = False\n",
    "print('Logical AND operation :- ',x and y) # True if both values are true\n",
    "print('Logical OR operation :- ',x or y) # True if either of the values is true\n",
    "print('NOT operation :- ',not x ) # True if operand is false"
   ]
  },
  {
   "cell_type": "code",
   "execution_count": null,
   "id": "3c36e744-c875-407f-a360-2d313cc88775",
   "metadata": {},
   "outputs": [],
   "source": []
  }
 ],
 "metadata": {
  "kernelspec": {
   "display_name": "Python 3 (ipykernel)",
   "language": "python",
   "name": "python3"
  },
  "language_info": {
   "codemirror_mode": {
    "name": "ipython",
    "version": 3
   },
   "file_extension": ".py",
   "mimetype": "text/x-python",
   "name": "python",
   "nbconvert_exporter": "python",
   "pygments_lexer": "ipython3",
   "version": "3.11.7"
  }
 },
 "nbformat": 4,
 "nbformat_minor": 5
}
